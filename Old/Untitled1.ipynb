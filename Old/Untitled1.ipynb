{
 "cells": [
  {
   "cell_type": "code",
   "execution_count": 1,
   "id": "c18afc44-ae75-4bcf-a3ea-a6a566ed42d5",
   "metadata": {},
   "outputs": [],
   "source": [
    "import pandas as pd \n",
    "from nltk.corpus import stopwords\n",
    "from nltk.tokenize import word_tokenize\n",
    "from nltk.stem import SnowballStemmer\n",
    "from nltk.stem import WordNetLemmatizer\n",
    "from nltk.corpus import wordnet\n",
    "\n",
    "import numpy as np\n",
    "from sklearn.model_selection import train_test_split\n",
    "\n",
    "from tensorflow.keras.models import Sequential\n",
    "from tensorflow.keras.layers import Embedding, LSTM, Dense, Lambda\n",
    "\n",
    "\n",
    "from tensorflow.keras.preprocessing.text import Tokenizer\n",
    "from tensorflow.keras.preprocessing.sequence import pad_sequences\n",
    "from tensorflow.keras.optimizers import Adam"
   ]
  },
  {
   "cell_type": "code",
   "execution_count": 2,
   "id": "72acd1ca-bcaa-4516-95a0-e3955453cf02",
   "metadata": {},
   "outputs": [],
   "source": [
    "def load_dataset(path='Dataset/test.csv'):\n",
    "    dataset = pd.read_csv(path)\n",
    "\n",
    "    if dataset['rate'].apply(lambda x: isinstance(x, str)).any():\n",
    "        dataset.rate.replace('negative', 0, inplace=True)\n",
    "        dataset.rate.replace('positive', 1, inplace=True)\n",
    "\n",
    "    dataset = dataset[(dataset['rate'] == 1) | (dataset['rate'] == 0)]\n",
    "    return dataset\n",
    "\n",
    "# 1 Cleaning \n",
    "def Clean(text):\n",
    "    txt = ''\n",
    "    for i in text:\n",
    "        if i.isalnum():\n",
    "            txt = txt + i\n",
    "        else:\n",
    "            txt = txt + ' '\n",
    "    return txt.lower()\n",
    "\n",
    "# 2 Removing Stopwords\n",
    "def remove_stopword(text):\n",
    "    stop_words = set(stopwords.words('english'))\n",
    "    words = word_tokenize(text)\n",
    "    return [w for w in words if w not in stop_words]\n",
    "\n",
    "# 3 Data Lemmatization or Stemm\n",
    "def stem_text(text):\n",
    "    stemmer = SnowballStemmer('english')\n",
    "    return \" \".join([stemmer.stem(w) for w in text])\n",
    "\n",
    "def lemmatize_text(text):\n",
    "    lemmatizer = WordNetLemmatizer()\n",
    "    return \" \".join([lemmatizer.lemmatize(w, pos=wordnet.VERB) for w in text])\n",
    "    "
   ]
  },
  {
   "cell_type": "code",
   "execution_count": 4,
   "id": "72c9df06-778f-4ac8-8176-1f8ecb435649",
   "metadata": {},
   "outputs": [
    {
     "name": "stderr",
     "output_type": "stream",
     "text": [
      "C:\\Users\\mohse\\AppData\\Local\\Temp\\ipykernel_11480\\1256099431.py:5: FutureWarning: A value is trying to be set on a copy of a DataFrame or Series through chained assignment using an inplace method.\n",
      "The behavior will change in pandas 3.0. This inplace method will never work because the intermediate object on which we are setting values always behaves as a copy.\n",
      "\n",
      "For example, when doing 'df[col].method(value, inplace=True)', try using 'df.method({col: value}, inplace=True)' or df[col] = df[col].method(value) instead, to perform the operation inplace on the original object.\n",
      "\n",
      "\n",
      "  dataset.rate.replace('negative', 0, inplace=True)\n",
      "C:\\Users\\mohse\\AppData\\Local\\Temp\\ipykernel_11480\\1256099431.py:6: FutureWarning: A value is trying to be set on a copy of a DataFrame or Series through chained assignment using an inplace method.\n",
      "The behavior will change in pandas 3.0. This inplace method will never work because the intermediate object on which we are setting values always behaves as a copy.\n",
      "\n",
      "For example, when doing 'df[col].method(value, inplace=True)', try using 'df.method({col: value}, inplace=True)' or df[col] = df[col].method(value) instead, to perform the operation inplace on the original object.\n",
      "\n",
      "\n",
      "  dataset.rate.replace('positive', 1, inplace=True)\n",
      "C:\\Users\\mohse\\AppData\\Local\\Temp\\ipykernel_11480\\1256099431.py:6: FutureWarning: Downcasting behavior in `replace` is deprecated and will be removed in a future version. To retain the old behavior, explicitly call `result.infer_objects(copy=False)`. To opt-in to the future behavior, set `pd.set_option('future.no_silent_downcasting', True)`\n",
      "  dataset.rate.replace('positive', 1, inplace=True)\n"
     ]
    }
   ],
   "source": [
    "dataset = load_dataset()\n",
    "dataset.review = dataset.review.apply(Clean) #1 Clean \n",
    "dataset.review = dataset.review.apply(remove_stopword) #2 Remove Stopwords\n",
    "dataset.review = dataset.review.apply(lemmatize_text) #3 Choose stem_text or lemmatize_text"
   ]
  },
  {
   "cell_type": "code",
   "execution_count": 6,
   "id": "ca38dd9e-921a-4794-9f2a-808fe1dd8a43",
   "metadata": {},
   "outputs": [
    {
     "name": "stdout",
     "output_type": "stream",
     "text": [
      "Epoch 1/10\n"
     ]
    },
    {
     "name": "stderr",
     "output_type": "stream",
     "text": [
      "C:\\Users\\mohse\\AppData\\Local\\Programs\\Python\\Python311\\Lib\\site-packages\\keras\\src\\layers\\core\\embedding.py:90: UserWarning: Argument `input_length` is deprecated. Just remove it.\n",
      "  warnings.warn(\n"
     ]
    },
    {
     "name": "stdout",
     "output_type": "stream",
     "text": [
      "WARNING:tensorflow:From C:\\Users\\mohse\\AppData\\Local\\Programs\\Python\\Python311\\Lib\\site-packages\\keras\\src\\backend\\tensorflow\\core.py:184: The name tf.placeholder is deprecated. Please use tf.compat.v1.placeholder instead.\n",
      "\n",
      "\u001b[1m19/19\u001b[0m \u001b[32m━━━━━━━━━━━━━━━━━━━━\u001b[0m\u001b[37m\u001b[0m \u001b[1m3s\u001b[0m 30ms/step - accuracy: 0.4355 - loss: 0.6954\n",
      "Epoch 2/10\n",
      "\u001b[1m19/19\u001b[0m \u001b[32m━━━━━━━━━━━━━━━━━━━━\u001b[0m\u001b[37m\u001b[0m \u001b[1m1s\u001b[0m 29ms/step - accuracy: 0.6780 - loss: 0.6869\n",
      "Epoch 3/10\n",
      "\u001b[1m19/19\u001b[0m \u001b[32m━━━━━━━━━━━━━━━━━━━━\u001b[0m\u001b[37m\u001b[0m \u001b[1m1s\u001b[0m 27ms/step - accuracy: 0.7058 - loss: 0.6638\n",
      "Epoch 4/10\n",
      "\u001b[1m19/19\u001b[0m \u001b[32m━━━━━━━━━━━━━━━━━━━━\u001b[0m\u001b[37m\u001b[0m \u001b[1m1s\u001b[0m 27ms/step - accuracy: 0.6693 - loss: 0.8629\n",
      "Epoch 5/10\n",
      "\u001b[1m19/19\u001b[0m \u001b[32m━━━━━━━━━━━━━━━━━━━━\u001b[0m\u001b[37m\u001b[0m \u001b[1m1s\u001b[0m 29ms/step - accuracy: 0.7245 - loss: 0.5938\n",
      "Epoch 6/10\n",
      "\u001b[1m19/19\u001b[0m \u001b[32m━━━━━━━━━━━━━━━━━━━━\u001b[0m\u001b[37m\u001b[0m \u001b[1m1s\u001b[0m 27ms/step - accuracy: 0.7406 - loss: 0.5614\n",
      "Epoch 7/10\n",
      "\u001b[1m19/19\u001b[0m \u001b[32m━━━━━━━━━━━━━━━━━━━━\u001b[0m\u001b[37m\u001b[0m \u001b[1m1s\u001b[0m 28ms/step - accuracy: 0.8199 - loss: 0.4361\n",
      "Epoch 8/10\n",
      "\u001b[1m19/19\u001b[0m \u001b[32m━━━━━━━━━━━━━━━━━━━━\u001b[0m\u001b[37m\u001b[0m \u001b[1m1s\u001b[0m 27ms/step - accuracy: 0.9157 - loss: 0.2500\n",
      "Epoch 9/10\n",
      "\u001b[1m19/19\u001b[0m \u001b[32m━━━━━━━━━━━━━━━━━━━━\u001b[0m\u001b[37m\u001b[0m \u001b[1m1s\u001b[0m 36ms/step - accuracy: 0.9292 - loss: 0.2190\n",
      "Epoch 10/10\n",
      "\u001b[1m19/19\u001b[0m \u001b[32m━━━━━━━━━━━━━━━━━━━━\u001b[0m\u001b[37m\u001b[0m \u001b[1m1s\u001b[0m 29ms/step - accuracy: 0.8214 - loss: 0.4713\n",
      "\u001b[1m19/19\u001b[0m \u001b[32m━━━━━━━━━━━━━━━━━━━━\u001b[0m\u001b[37m\u001b[0m \u001b[1m0s\u001b[0m 11ms/step - accuracy: 0.8348 - loss: 0.4062\n",
      "Test Loss: 0.4516, Test Accuracy: 0.8067\n"
     ]
    }
   ],
   "source": [
    "max_len = 100\n",
    "sentiment = np.array(dataset.rate.values) # commonly known as y_train\n",
    "tokenizer = Tokenizer(num_words=5000)\n",
    "tokenizer.fit_on_texts(dataset['review'])\n",
    "sequences = tokenizer.texts_to_sequences(dataset['review'])\n",
    "padded_sequences = pad_sequences(sequences, maxlen=max_len, padding='post') # commonly known as X_train\n",
    "model = Sequential([\n",
    "    Embedding(input_dim=tokenizer.num_words, output_dim=128, input_length=max_len),\n",
    "    LSTM(64,return_sequences = True),\n",
    "    Lambda(lambda x: x[:, -1, :]),\n",
    "    Dense(units=1, activation='sigmoid')\n",
    "])\n",
    "model.compile(loss='binary_crossentropy', optimizer=Adam(learning_rate=0.001), metrics=['accuracy'])\n",
    "model.fit(padded_sequences, sentiment, epochs=10, batch_size=32)\n",
    "\n",
    "loss, accuracy = model.evaluate(padded_sequences, sentiment)\n",
    "print(f\"Test Loss: {loss:.4f}, Test Accuracy: {accuracy:.4f}\")"
   ]
  },
  {
   "cell_type": "code",
   "execution_count": 11,
   "id": "1addc928-c15c-4f9d-a12d-1b1b264f8d71",
   "metadata": {},
   "outputs": [
    {
     "data": {
      "text/plain": [
       "array([[ 195, 2122, 1608, ...,  285,  101,  224],\n",
       "       [1021,   14,   61, ...,    0,    0,    0],\n",
       "       [  35,  101,  159, ...,    0,    0,    0],\n",
       "       ...,\n",
       "       [  58,  566,    9, ..., 3329,  134,  504],\n",
       "       [ 201,  158,   98, ...,    0,    0,    0],\n",
       "       [ 245,  471,   13, ...,    0,    0,    0]])"
      ]
     },
     "execution_count": 11,
     "metadata": {},
     "output_type": "execute_result"
    }
   ],
   "source": [
    "padded_sequences\n"
   ]
  },
  {
   "cell_type": "code",
   "execution_count": 18,
   "id": "5254b2ad-39e3-401f-aa86-fc0c2b126d80",
   "metadata": {},
   "outputs": [
    {
     "name": "stdout",
     "output_type": "stream",
     "text": [
      "[[45  2  0  0  0  0  0  0  0  0  0  0  0  0  0  0  0  0  0  0  0  0  0  0\n",
      "   0  0  0  0  0  0  0  0  0  0  0  0  0  0  0  0  0  0  0  0  0  0  0  0\n",
      "   0  0  0  0  0  0  0  0  0  0  0  0  0  0  0  0  0  0  0  0  0  0  0  0\n",
      "   0  0  0  0  0  0  0  0  0  0  0  0  0  0  0  0  0  0  0  0  0  0  0  0\n",
      "   0  0  0  0]]\n",
      "\u001b[1m1/1\u001b[0m \u001b[32m━━━━━━━━━━━━━━━━━━━━\u001b[0m\u001b[37m\u001b[0m \u001b[1m0s\u001b[0m 33ms/step\n",
      "0.76483816\n",
      "Sentiment: Positive\n"
     ]
    }
   ],
   "source": [
    "new_text_processed = Clean(\"I Love this movie\")\n",
    "new_text_processed = remove_stopword(new_text_processed)\n",
    "new_text_processed = lemmatize_text(new_text_processed)\n",
    "\n",
    "new_sequence = tokenizer.texts_to_sequences([new_text_processed])\n",
    "new_sequence = pad_sequences(new_sequence, maxlen=max_len, padding='post')\n",
    "print(new_sequence)\n",
    "\n",
    "\n",
    "prediction = model.predict(new_sequence)[0][0]\n",
    "\n",
    "print(prediction)\n",
    "\n",
    "if prediction > 0.5:\n",
    "  print(\"Sentiment: Positive\")\n",
    "else:\n",
    "  print(\"Sentiment: Negative\")"
   ]
  },
  {
   "cell_type": "code",
   "execution_count": null,
   "id": "2c8ce469-6485-4383-9299-e56a9fb5e4de",
   "metadata": {},
   "outputs": [],
   "source": []
  }
 ],
 "metadata": {
  "kernelspec": {
   "display_name": "Python 3 (ipykernel)",
   "language": "python",
   "name": "python3"
  },
  "language_info": {
   "codemirror_mode": {
    "name": "ipython",
    "version": 3
   },
   "file_extension": ".py",
   "mimetype": "text/x-python",
   "name": "python",
   "nbconvert_exporter": "python",
   "pygments_lexer": "ipython3",
   "version": "3.11.4"
  }
 },
 "nbformat": 4,
 "nbformat_minor": 5
}
