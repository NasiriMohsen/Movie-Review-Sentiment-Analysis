{
 "cells": [
  {
   "cell_type": "code",
   "execution_count": 58,
   "id": "91509b89-344d-4ed7-80c5-41e45825b724",
   "metadata": {},
   "outputs": [],
   "source": [
    "import pandas as pd \n",
    "from nltk.corpus import stopwords\n",
    "from nltk.tokenize import word_tokenize\n",
    "from nltk.stem import SnowballStemmer\n",
    "from nltk.stem import WordNetLemmatizer\n",
    "from nltk.corpus import wordnet\n",
    "\n",
    "import numpy as np\n",
    "from sklearn.feature_extraction.text import CountVectorizer\n",
    "from sklearn.model_selection import train_test_split\n",
    "\n",
    "from tensorflow.keras.models import Sequential\n",
    "from tensorflow.keras.layers import Embedding, LSTM, Dense, Lambda\n",
    "\n",
    "\n",
    "from tensorflow.keras.preprocessing.text import Tokenizer\n",
    "from tensorflow.keras.preprocessing.sequence import pad_sequences\n",
    "from tensorflow.keras.optimizers import Adam"
   ]
  },
  {
   "cell_type": "code",
   "execution_count": 37,
   "id": "b9539256-75f8-47e9-951f-05c26545cee5",
   "metadata": {},
   "outputs": [
    {
     "name": "stderr",
     "output_type": "stream",
     "text": [
      "C:\\Users\\mohse\\AppData\\Local\\Temp\\ipykernel_11976\\1135643320.py:5: FutureWarning: A value is trying to be set on a copy of a DataFrame or Series through chained assignment using an inplace method.\n",
      "The behavior will change in pandas 3.0. This inplace method will never work because the intermediate object on which we are setting values always behaves as a copy.\n",
      "\n",
      "For example, when doing 'df[col].method(value, inplace=True)', try using 'df.method({col: value}, inplace=True)' or df[col] = df[col].method(value) instead, to perform the operation inplace on the original object.\n",
      "\n",
      "\n",
      "  dataset.rate.replace('negative', 0, inplace=True)\n",
      "C:\\Users\\mohse\\AppData\\Local\\Temp\\ipykernel_11976\\1135643320.py:6: FutureWarning: A value is trying to be set on a copy of a DataFrame or Series through chained assignment using an inplace method.\n",
      "The behavior will change in pandas 3.0. This inplace method will never work because the intermediate object on which we are setting values always behaves as a copy.\n",
      "\n",
      "For example, when doing 'df[col].method(value, inplace=True)', try using 'df.method({col: value}, inplace=True)' or df[col] = df[col].method(value) instead, to perform the operation inplace on the original object.\n",
      "\n",
      "\n",
      "  dataset.rate.replace('positive', 1, inplace=True)\n",
      "C:\\Users\\mohse\\AppData\\Local\\Temp\\ipykernel_11976\\1135643320.py:6: FutureWarning: Downcasting behavior in `replace` is deprecated and will be removed in a future version. To retain the old behavior, explicitly call `result.infer_objects(copy=False)`. To opt-in to the future behavior, set `pd.set_option('future.no_silent_downcasting', True)`\n",
      "  dataset.rate.replace('positive', 1, inplace=True)\n"
     ]
    }
   ],
   "source": [
    "# 1 Data Preprocessing\n",
    "dataset = pd.read_csv('Dataset/test.csv')\n",
    "\n",
    "if dataset['rate'].apply(lambda x: isinstance(x, str)).any():\n",
    "    dataset.rate.replace('negative', 0, inplace=True)\n",
    "    dataset.rate.replace('positive', 1, inplace=True)\n",
    "\n",
    "dataset = dataset[(dataset['rate'] == 1) | (dataset['rate'] == 0)]\n",
    "\n",
    "def Clean(text):\n",
    "    txt = ''\n",
    "    for i in text:\n",
    "        if i.isalnum():\n",
    "            txt = txt + i\n",
    "        else:\n",
    "            txt = txt + ' '\n",
    "    return txt.lower()\n",
    "\n",
    "dataset.review = dataset.review.apply(Clean)\n",
    "\n",
    "\n",
    "# 2 Data Lemmatization\n",
    "def remove_stopword(text):\n",
    "    stop_words = set(stopwords.words('english'))\n",
    "    words = word_tokenize(text)\n",
    "    return [w for w in words if w not in stop_words]\n",
    "\n",
    "dataset.review = dataset.review.apply(remove_stopword)\n",
    "\n",
    "def stem_txt(text):\n",
    "    stemmer = SnowballStemmer('english')\n",
    "    return \" \".join([stemmer.stem(w) for w in text])\n",
    "\n",
    "dataset.review = dataset.review.apply(stem_txt)\n"
   ]
  },
  {
   "cell_type": "code",
   "execution_count": 37,
   "id": "2c011658-7fcc-4c15-b1ec-2aff41bfe4f0",
   "metadata": {},
   "outputs": [
    {
     "name": "stderr",
     "output_type": "stream",
     "text": [
      "C:\\Users\\mohse\\AppData\\Local\\Temp\\ipykernel_11976\\1135643320.py:5: FutureWarning: A value is trying to be set on a copy of a DataFrame or Series through chained assignment using an inplace method.\n",
      "The behavior will change in pandas 3.0. This inplace method will never work because the intermediate object on which we are setting values always behaves as a copy.\n",
      "\n",
      "For example, when doing 'df[col].method(value, inplace=True)', try using 'df.method({col: value}, inplace=True)' or df[col] = df[col].method(value) instead, to perform the operation inplace on the original object.\n",
      "\n",
      "\n",
      "  dataset.rate.replace('negative', 0, inplace=True)\n",
      "C:\\Users\\mohse\\AppData\\Local\\Temp\\ipykernel_11976\\1135643320.py:6: FutureWarning: A value is trying to be set on a copy of a DataFrame or Series through chained assignment using an inplace method.\n",
      "The behavior will change in pandas 3.0. This inplace method will never work because the intermediate object on which we are setting values always behaves as a copy.\n",
      "\n",
      "For example, when doing 'df[col].method(value, inplace=True)', try using 'df.method({col: value}, inplace=True)' or df[col] = df[col].method(value) instead, to perform the operation inplace on the original object.\n",
      "\n",
      "\n",
      "  dataset.rate.replace('positive', 1, inplace=True)\n",
      "C:\\Users\\mohse\\AppData\\Local\\Temp\\ipykernel_11976\\1135643320.py:6: FutureWarning: Downcasting behavior in `replace` is deprecated and will be removed in a future version. To retain the old behavior, explicitly call `result.infer_objects(copy=False)`. To opt-in to the future behavior, set `pd.set_option('future.no_silent_downcasting', True)`\n",
      "  dataset.rate.replace('positive', 1, inplace=True)\n"
     ]
    }
   ],
   "source": [
    "# 1 Data Preprocessing\n",
    "dataset = pd.read_csv('Dataset/test.csv')\n",
    "\n",
    "if dataset['rate'].apply(lambda x: isinstance(x, str)).any():\n",
    "    dataset.rate.replace('negative', 0, inplace=True)\n",
    "    dataset.rate.replace('positive', 1, inplace=True)\n",
    "\n",
    "dataset = dataset[(dataset['rate'] == 1) | (dataset['rate'] == 0)]\n",
    "\n",
    "def Clean(text):\n",
    "    txt = ''\n",
    "    for i in text:\n",
    "        if i.isalnum():\n",
    "            txt = txt + i\n",
    "        else:\n",
    "            txt = txt + ' '\n",
    "    return txt.lower()\n",
    "\n",
    "dataset.review = dataset.review.apply(Clean)\n",
    "\n",
    "\n",
    "# 2 Data Lemmatization\n",
    "def remove_stopword(text):\n",
    "    stop_words = set(stopwords.words('english'))\n",
    "    words = word_tokenize(text)\n",
    "    return [w for w in words if w not in stop_words]\n",
    "\n",
    "dataset.review = dataset.review.apply(remove_stopword)\n",
    "\n",
    "def stem_txt(text):\n",
    "    stemmer = SnowballStemmer('english')\n",
    "    return \" \".join([stemmer.stem(w) for w in text])\n",
    "\n",
    "dataset.review = dataset.review.apply(stem_txt)\n"
   ]
  },
  {
   "cell_type": "code",
   "execution_count": 43,
   "id": "fb5e79f3-4f5b-4249-9ad4-cdc439f7f376",
   "metadata": {},
   "outputs": [],
   "source": [
    "# Tokenization and Padding\n",
    "max_len = 100  # Maximum sequence length (can be adjusted based on data)\n",
    "tokenizer = Tokenizer(num_words=5000)  # Create tokenizer with a vocabulary size\n",
    "tokenizer.fit_on_texts(dataset['review'])\n",
    "sequences = tokenizer.texts_to_sequences(dataset['review'])\n",
    "padded_sequences = pad_sequences(sequences, maxlen=max_len, padding='post')\n",
    "\n",
    "# Prepare labels\n",
    "sentiment = np.array(dataset.rate.values)"
   ]
  },
  {
   "cell_type": "code",
   "execution_count": 59,
   "id": "7819f975-257d-4c90-baf0-1c5023db0af0",
   "metadata": {},
   "outputs": [
    {
     "name": "stdout",
     "output_type": "stream",
     "text": [
      "Epoch 1/10\n",
      "WARNING:tensorflow:From C:\\Users\\mohse\\AppData\\Local\\Programs\\Python\\Python311\\Lib\\site-packages\\keras\\src\\backend\\tensorflow\\core.py:184: The name tf.placeholder is deprecated. Please use tf.compat.v1.placeholder instead.\n",
      "\n",
      "\u001b[1m19/19\u001b[0m \u001b[32m━━━━━━━━━━━━━━━━━━━━\u001b[0m\u001b[37m\u001b[0m \u001b[1m3s\u001b[0m 29ms/step - accuracy: 0.5651 - loss: 0.6935\n",
      "Epoch 2/10\n",
      "\u001b[1m19/19\u001b[0m \u001b[32m━━━━━━━━━━━━━━━━━━━━\u001b[0m\u001b[37m\u001b[0m \u001b[1m1s\u001b[0m 27ms/step - accuracy: 0.7041 - loss: 0.6859\n",
      "Epoch 3/10\n",
      "\u001b[1m19/19\u001b[0m \u001b[32m━━━━━━━━━━━━━━━━━━━━\u001b[0m\u001b[37m\u001b[0m \u001b[1m1s\u001b[0m 27ms/step - accuracy: 0.6822 - loss: 0.6703\n",
      "Epoch 4/10\n",
      "\u001b[1m19/19\u001b[0m \u001b[32m━━━━━━━━━━━━━━━━━━━━\u001b[0m\u001b[37m\u001b[0m \u001b[1m1s\u001b[0m 27ms/step - accuracy: 0.7044 - loss: 0.5995\n",
      "Epoch 5/10\n",
      "\u001b[1m19/19\u001b[0m \u001b[32m━━━━━━━━━━━━━━━━━━━━\u001b[0m\u001b[37m\u001b[0m \u001b[1m1s\u001b[0m 28ms/step - accuracy: 0.7288 - loss: 0.5455\n",
      "Epoch 6/10\n",
      "\u001b[1m19/19\u001b[0m \u001b[32m━━━━━━━━━━━━━━━━━━━━\u001b[0m\u001b[37m\u001b[0m \u001b[1m1s\u001b[0m 27ms/step - accuracy: 0.7444 - loss: 0.4644\n",
      "Epoch 7/10\n",
      "\u001b[1m19/19\u001b[0m \u001b[32m━━━━━━━━━━━━━━━━━━━━\u001b[0m\u001b[37m\u001b[0m \u001b[1m1s\u001b[0m 27ms/step - accuracy: 0.9006 - loss: 0.2771\n",
      "Epoch 8/10\n",
      "\u001b[1m19/19\u001b[0m \u001b[32m━━━━━━━━━━━━━━━━━━━━\u001b[0m\u001b[37m\u001b[0m \u001b[1m1s\u001b[0m 27ms/step - accuracy: 0.9589 - loss: 0.1333\n",
      "Epoch 9/10\n",
      "\u001b[1m19/19\u001b[0m \u001b[32m━━━━━━━━━━━━━━━━━━━━\u001b[0m\u001b[37m\u001b[0m \u001b[1m1s\u001b[0m 29ms/step - accuracy: 0.9798 - loss: 0.0580\n",
      "Epoch 10/10\n",
      "\u001b[1m19/19\u001b[0m \u001b[32m━━━━━━━━━━━━━━━━━━━━\u001b[0m\u001b[37m\u001b[0m \u001b[1m1s\u001b[0m 28ms/step - accuracy: 1.0000 - loss: 0.0225\n"
     ]
    },
    {
     "data": {
      "text/plain": [
       "<keras.src.callbacks.history.History at 0x1af954413d0>"
      ]
     },
     "execution_count": 59,
     "metadata": {},
     "output_type": "execute_result"
    }
   ],
   "source": [
    "def get_last_output(x):\n",
    "    return x[:, -1, :]\n",
    "    \n",
    "model = Sequential([\n",
    "    Embedding(input_dim=tokenizer.num_words, output_dim=128, input_length=max_len),\n",
    "    LSTM(64,return_sequences = True),\n",
    "    Lambda(get_last_output),\n",
    "    Dense(units=1, activation='sigmoid')\n",
    "])\n",
    "\n",
    "# Compile the model\n",
    "model.compile(loss='binary_crossentropy', optimizer=Adam(learning_rate=0.001), metrics=['accuracy'])\n",
    "\n",
    "# Train the model (adjust epochs and batch size as needed)\n",
    "model.fit(padded_sequences, sentiment, epochs=10, batch_size=32)\n"
   ]
  },
  {
   "cell_type": "code",
   "execution_count": 60,
   "id": "b29fec0f-fb20-409e-b286-217307a46420",
   "metadata": {},
   "outputs": [
    {
     "name": "stdout",
     "output_type": "stream",
     "text": [
      "\u001b[1m19/19\u001b[0m \u001b[32m━━━━━━━━━━━━━━━━━━━━\u001b[0m\u001b[37m\u001b[0m \u001b[1m0s\u001b[0m 11ms/step - accuracy: 1.0000 - loss: 0.0079\n",
      "Test Loss: 0.0084, Test Accuracy: 1.0000\n"
     ]
    }
   ],
   "source": [
    "loss, accuracy = model.evaluate(padded_sequences, sentiment)\n",
    "print(f\"Test Loss: {loss:.4f}, Test Accuracy: {accuracy:.4f}\")\n"
   ]
  },
  {
   "cell_type": "code",
   "execution_count": null,
   "id": "f0d57d14-3c67-4fea-9f61-6f3898e8be61",
   "metadata": {},
   "outputs": [],
   "source": []
  }
 ],
 "metadata": {
  "kernelspec": {
   "display_name": "Python 3 (ipykernel)",
   "language": "python",
   "name": "python3"
  },
  "language_info": {
   "codemirror_mode": {
    "name": "ipython",
    "version": 3
   },
   "file_extension": ".py",
   "mimetype": "text/x-python",
   "name": "python",
   "nbconvert_exporter": "python",
   "pygments_lexer": "ipython3",
   "version": "3.11.4"
  }
 },
 "nbformat": 4,
 "nbformat_minor": 5
}
